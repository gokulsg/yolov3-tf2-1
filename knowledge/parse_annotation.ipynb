{
 "cells": [
  {
   "cell_type": "markdown",
   "metadata": {},
   "source": [
    "## Parse the Annotation of PASCAL VOC"
   ]
  },
  {
   "cell_type": "markdown",
   "metadata": {},
   "source": [
    "## 匯入相關函式庫 Import all the necessary libraries"
   ]
  },
  {
   "cell_type": "code",
   "execution_count": 1,
   "metadata": {
    "ExecuteTime": {
     "end_time": "2019-09-25T05:05:46.739140Z",
     "start_time": "2019-09-25T05:05:46.641037Z"
    }
   },
   "outputs": [],
   "source": [
    "import os\n",
    "import xml.etree.ElementTree as ET\n",
    "\n",
    "import cv2\n",
    "import numpy as np"
   ]
  },
  {
   "cell_type": "markdown",
   "metadata": {},
   "source": [
    "## 設定相關設定與參數 Setting parameters"
   ]
  },
  {
   "cell_type": "code",
   "execution_count": 2,
   "metadata": {
    "ExecuteTime": {
     "end_time": "2019-09-25T05:05:46.753940Z",
     "start_time": "2019-09-25T05:05:46.744259Z"
    },
    "scrolled": false
   },
   "outputs": [
    {
     "name": "stdout",
     "output_type": "stream",
     "text": [
      "../data\n",
      "../data/VOCdevkit/VOC2012\n",
      "../data/VOCdevkit/VOC2012/Annotations\n",
      "../data/VOCdevkit/VOC2012/JPEGImages\n"
     ]
    }
   ],
   "source": [
    "# 訓練/驗證用的資料目錄\n",
    "DATA_PATH = \"../data\"\n",
    "\n",
    "# 資料集目錄\n",
    "#DATA_SET_PATH = os.path.join(DATA_PATH, \"kangaroo\")\n",
    "DATA_SET_PATH = os.path.join(DATA_PATH, \"VOCdevkit/VOC2012\")\n",
    "\n",
    "# 資料集標註檔目錄\n",
    "ANNOTATIONS_PATH = os.path.join(DATA_SET_PATH, \"Annotations\")\n",
    "\n",
    "# 資料集圖像檔目錄\n",
    "IMAGES_PATH = os.path.join(DATA_SET_PATH, \"JPEGImages\")\n",
    "\n",
    "print(DATA_PATH)\n",
    "print(DATA_SET_PATH)\n",
    "print(ANNOTATIONS_PATH)\n",
    "print(IMAGES_PATH)"
   ]
  },
  {
   "cell_type": "code",
   "execution_count": 3,
   "metadata": {},
   "outputs": [],
   "source": [
    "def read_classes(classes_path):\n",
    "    with open(classes_path) as f:\n",
    "        class_names = f.readlines()\n",
    "    class_names = [c.strip() for c in class_names]\n",
    "    return class_names"
   ]
  },
  {
   "cell_type": "code",
   "execution_count": 4,
   "metadata": {
    "ExecuteTime": {
     "end_time": "2019-09-25T05:05:47.028004Z",
     "start_time": "2019-09-25T05:05:46.756844Z"
    }
   },
   "outputs": [
    {
     "data": {
      "text/plain": [
       "['person',\n",
       " 'bird',\n",
       " 'cat',\n",
       " 'cow',\n",
       " 'dog',\n",
       " 'horse',\n",
       " 'sheep',\n",
       " 'aeroplane',\n",
       " 'bicycle',\n",
       " 'boat',\n",
       " 'bus',\n",
       " 'car',\n",
       " 'motorbike',\n",
       " 'train',\n",
       " 'bottle',\n",
       " 'chair',\n",
       " 'diningtable',\n",
       " 'pottedplant',\n",
       " 'sofa',\n",
       " 'tvmonitor']"
      ]
     },
     "execution_count": 4,
     "metadata": {},
     "output_type": "execute_result"
    }
   ],
   "source": [
    "# Classes that you want to detect.\n",
    "CLASSES = read_classes(\"../model_data/voc2012_classes.txt\")\n",
    "CLASSES"
   ]
  },
  {
   "cell_type": "code",
   "execution_count": 5,
   "metadata": {
    "ExecuteTime": {
     "end_time": "2019-09-25T05:05:47.125718Z",
     "start_time": "2019-09-25T05:05:47.034172Z"
    }
   },
   "outputs": [],
   "source": [
    "# 一個列表物件,每一個列表物件都包含了要訓練用的重要資訊\n",
    "all_imgs = [] \n",
    "\n",
    "\"\"\"\n",
    "{\n",
    "    'filename:'/path/kangaroo.jpg', 'width':128, 'height':128, 'depth': 3, \n",
    "    'object': [\n",
    "        {'name':'person', xmin:0, ymin:0, xmax:28, ymax:28},\n",
    "        {'name':'kangaroo',xmin:45, ymin:45, xmax:60, ymax:60}\n",
    "    ]\n",
    "}\n",
    "\"\"\"\n",
    "\n",
    "# 一個字典物件: {Key:圖像類別, Value:出現的次數}\n",
    "seen_labels = {}"
   ]
  },
  {
   "cell_type": "markdown",
   "metadata": {},
   "source": [
    "## Parse Annotation"
   ]
  },
  {
   "cell_type": "code",
   "execution_count": 6,
   "metadata": {
    "ExecuteTime": {
     "end_time": "2019-09-25T05:05:47.234083Z",
     "start_time": "2019-09-25T05:05:47.128585Z"
    }
   },
   "outputs": [
    {
     "name": "stdout",
     "output_type": "stream",
     "text": [
      "{'person': 17401, 'aeroplane': 1002, 'tvmonitor': 893, 'train': 704, 'boat': 1059, 'dog': 1598, 'chair': 3056, 'bird': 1271, 'bicycle': 837, 'bottle': 1561, 'sheep': 1084, 'diningtable': 800, 'horse': 803, 'motorbike': 801, 'sofa': 841, 'cow': 771, 'car': 2492, 'cat': 1277, 'bus': 685, 'pottedplant': 1202} 17125\n"
     ]
    },
    {
     "data": {
      "text/plain": [
       "{'object': [{'name': 'aeroplane',\n",
       "   'xmin': 104.0,\n",
       "   'ymin': 78.0,\n",
       "   'xmax': 375.0,\n",
       "   'ymax': 183.0},\n",
       "  {'name': 'aeroplane',\n",
       "   'xmin': 133.0,\n",
       "   'ymin': 88.0,\n",
       "   'xmax': 197.0,\n",
       "   'ymax': 123.0},\n",
       "  {'name': 'person',\n",
       "   'xmin': 195.0,\n",
       "   'ymin': 180.0,\n",
       "   'xmax': 213.0,\n",
       "   'ymax': 229.0},\n",
       "  {'name': 'person',\n",
       "   'xmin': 26.0,\n",
       "   'ymin': 189.0,\n",
       "   'xmax': 44.0,\n",
       "   'ymax': 238.0}],\n",
       " 'filename': '../data/VOCdevkit/VOC2012/JPEGImages/2007_000032.jpg',\n",
       " 'width': 500,\n",
       " 'height': 281,\n",
       " 'depth': 3}"
      ]
     },
     "execution_count": 6,
     "metadata": {},
     "output_type": "execute_result"
    }
   ],
   "source": [
    "all_imgs = []\n",
    "seen_labels = {}\n",
    "for ann in sorted(os.listdir(ANNOTATIONS_PATH)):\n",
    "    img = {'object': []}\n",
    "    \n",
    "    tree = ET.parse(os.path.join(ANNOTATIONS_PATH, ann))\n",
    "    root = tree.getroot()\n",
    "    \n",
    "    img['filename'] = os.path.join(IMAGES_PATH, root.find('filename').text)\n",
    "    \n",
    "    for size in root.findall('size'):\n",
    "        img['width'] = int(size.find('width').text)\n",
    "        img['height'] = int(size.find('height').text)\n",
    "        img['depth'] = int(size.find('depth').text)\n",
    "    \n",
    "    for boxes in root.iter('object'):\n",
    "        obj = {}\n",
    "        obj['name'] = boxes.find('name').text\n",
    "        \n",
    "        #檢查此類別是否有在要偵測的類別中,如果沒有則忽略\n",
    "        if len(CLASSES) > 0 and obj['name'] not in CLASSES:\n",
    "            break\n",
    "        \n",
    "        if obj['name'] in seen_labels:\n",
    "            seen_labels[obj['name']] += 1\n",
    "        else:\n",
    "            seen_labels[obj['name']] = 1\n",
    "        \n",
    "        for box in boxes.findall('bndbox'):\n",
    "            obj['xmin'] = float(box.find(\"xmin\").text)\n",
    "            obj['ymin'] = float(box.find(\"ymin\").text)\n",
    "            obj['xmax'] = float(box.find(\"xmax\").text)\n",
    "            obj['ymax'] = float(box.find(\"ymax\").text)\n",
    "    \n",
    "        img['object'] += [obj]\n",
    "        \n",
    "    all_imgs += [img]\n",
    "\n",
    "print(seen_labels, len(all_imgs))\n",
    "all_imgs[1]"
   ]
  }
 ],
 "metadata": {
  "kernelspec": {
   "display_name": "Python 3",
   "language": "python",
   "name": "python3"
  },
  "language_info": {
   "codemirror_mode": {
    "name": "ipython",
    "version": 3
   },
   "file_extension": ".py",
   "mimetype": "text/x-python",
   "name": "python",
   "nbconvert_exporter": "python",
   "pygments_lexer": "ipython3",
   "version": "3.6.9"
  },
  "latex_envs": {
   "LaTeX_envs_menu_present": true,
   "autoclose": false,
   "autocomplete": true,
   "bibliofile": "biblio.bib",
   "cite_by": "apalike",
   "current_citInitial": 1,
   "eqLabelWithNumbers": true,
   "eqNumInitial": 1,
   "hotkeys": {
    "equation": "Ctrl-E",
    "itemize": "Ctrl-I"
   },
   "labels_anchors": false,
   "latex_user_defs": false,
   "report_style_numbering": false,
   "user_envs_cfg": false
  },
  "toc": {
   "base_numbering": 1,
   "nav_menu": {},
   "number_sections": true,
   "sideBar": true,
   "skip_h1_title": false,
   "title_cell": "Table of Contents",
   "title_sidebar": "Contents",
   "toc_cell": false,
   "toc_position": {
    "height": "calc(100% - 180px)",
    "left": "10px",
    "top": "150px",
    "width": "165px"
   },
   "toc_section_display": true,
   "toc_window_display": false
  }
 },
 "nbformat": 4,
 "nbformat_minor": 2
}
